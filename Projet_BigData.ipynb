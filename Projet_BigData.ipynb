{
 "cells": [
  {
   "cell_type": "markdown",
   "metadata": {},
   "source": [
    "# Projet Big Data\n",
    "\n",
    "Robin Duraz, Jiaxin Gao, Xihui Wang\n",
    "\n",
    "Nous avons choisi de travailler sur les données du projet Criteo de Kaggle, disponible à https://www.kaggle.com/c/criteo-display-ad-challenge, en utilisant PySpark.\n",
    "\n",
    "L'ensemble des données étant trop grand pour pouvoir être traité avec nos machines, nous avons réduit la taille des données en ne prenant que le premier million de lignes du fichier de train.\n",
    "    \n",
    "    head -n 1000000 nomFichierTrain > small_train.txt"
   ]
  },
  {
   "cell_type": "markdown",
   "metadata": {},
   "source": [
    "## Sources utilisées\n",
    "\n",
    "La visualisation plus loin utilisant pandas scatter_matrix vient de :\n",
    "\n",
    "https://towardsdatascience.com/machine-learning-with-pyspark-and-mllib-solving-a-binary-classification-problem-96396065d2aa\n",
    "\n",
    "Pour le reste, nous nous sommes inspirés de :\n",
    "\n",
    "la documentation de MLlib visible à :\n",
    "\n",
    "https://spark.apache.org/docs/latest/ml-guide.html\n",
    "\n",
    "La page https://www.datacamp.com/community/tutorials/apache-spark-tutorial-machine-learning?utm_source=adwords_ppc&utm_campaignid=898687156&utm_adgroupid=48947256715&utm_device=c&utm_keyword=&utm_matchtype=b&utm_network=g&utm_adpostion=1t1&utm_creative=255768618198&utm_targetid=aud-299261629574:dsa-473406582395&utm_loc_interest_ms=&utm_loc_physical_ms=9056462&gclid=EAIaIQobChMIzLGz1vL73gIVDOJ3Ch2HsAZPEAAYASAAEgI4V_D_BwE#evaluate\n",
    "\n",
    "Ainsi que https://docs.databricks.com/spark/latest/mllib/index.html qui possède de nombreux exemples"
   ]
  },
  {
   "cell_type": "markdown",
   "metadata": {},
   "source": [
    "## Installation utilisée\n",
    "\n",
    "Considérant Spark bien installé, nous avons utilisé findspark pour ne pas avoir besoin de créer de variables d'environnement. Cette étape n'est pas nécessaire si les variables d'environnement sont utilisées.\n",
    "\n",
    "Installer findspark avec pip, puis fournir le bon chemin vers le $SPARK_HOME dans"
   ]
  },
  {
   "cell_type": "code",
   "execution_count": 1,
   "metadata": {},
   "outputs": [],
   "source": [
    "import findspark\n",
    "findspark.init(\"/opt/spark-2.3.2-bin-hadoop2.7\")"
   ]
  },
  {
   "cell_type": "markdown",
   "metadata": {},
   "source": [
    "## Chargement des données"
   ]
  },
  {
   "cell_type": "code",
   "execution_count": 2,
   "metadata": {},
   "outputs": [],
   "source": [
    "from pyspark import SparkContext\n",
    "from pyspark import SQLContext"
   ]
  },
  {
   "cell_type": "markdown",
   "metadata": {},
   "source": [
    "#### Paramètres supplémentaires\n",
    "\n",
    "Les deux paramètres suivants sont changés de leur valeurs de base pour permettre aux DecisionTree & Random Forest de mettre plus de choses dans le cache. Ils ont été finalement enlevés (DecisionTree & RandomForest) car ces paramètres, ainsi que d'autres méthodes essayées, n'étaient pas suffisant pour les utiliser.\n",
    "\n",
    "Cela permet entre autre de prendre plus de données pour l'entraînement et/ou l'accélérer"
   ]
  },
  {
   "cell_type": "code",
   "execution_count": 4,
   "metadata": {},
   "outputs": [],
   "source": [
    "SparkContext.setSystemProperty('spark.executor.memory', '4g')\n",
    "SparkContext.setSystemProperty('spark.driver.memory', '4g')"
   ]
  },
  {
   "cell_type": "code",
   "execution_count": 5,
   "metadata": {},
   "outputs": [],
   "source": [
    "sc = SparkContext(\"local\").getOrCreate()\n",
    "sqlContext = SQLContext(sc)"
   ]
  },
  {
   "cell_type": "code",
   "execution_count": 6,
   "metadata": {},
   "outputs": [],
   "source": [
    "dataset = sc.textFile(\"small_train.txt\")"
   ]
  },
  {
   "cell_type": "markdown",
   "metadata": {},
   "source": [
    "## Pré-traitement des données\n",
    "\n",
    "Charger les données récupérées dans des dataframes ayant des noms de colonne, puis faire un cast des colonnes contenant des entiers pour qu'ils aient bien un type Integer"
   ]
  },
  {
   "cell_type": "code",
   "execution_count": 7,
   "metadata": {},
   "outputs": [],
   "source": [
    "dataset = dataset.map(lambda x : x.split(\"\\t\"))"
   ]
  },
  {
   "cell_type": "code",
   "execution_count": 8,
   "metadata": {},
   "outputs": [],
   "source": [
    "numCols = [\"intFeature_{}\".format(i) for i in range(1,14)]\n",
    "catCols = [\"catFeature_{}\".format(i) for i in range(1,27)]\n",
    "df = sqlContext.createDataFrame(dataset, [\"label\"] + numCols + catCols)"
   ]
  },
  {
   "cell_type": "code",
   "execution_count": 9,
   "metadata": {},
   "outputs": [],
   "source": [
    "from pyspark.sql.types import IntegerType\n",
    "from pyspark.sql.functions import col\n",
    "for colname in [\"label\"] + numCols:\n",
    "    df = df.withColumn(colname, col(colname).cast(IntegerType()))"
   ]
  },
  {
   "cell_type": "code",
   "execution_count": 10,
   "metadata": {
    "scrolled": true
   },
   "outputs": [
    {
     "name": "stdout",
     "output_type": "stream",
     "text": [
      "root\n",
      " |-- label: integer (nullable = true)\n",
      " |-- intFeature_1: integer (nullable = true)\n",
      " |-- intFeature_2: integer (nullable = true)\n",
      " |-- intFeature_3: integer (nullable = true)\n",
      " |-- intFeature_4: integer (nullable = true)\n",
      " |-- intFeature_5: integer (nullable = true)\n",
      " |-- intFeature_6: integer (nullable = true)\n",
      " |-- intFeature_7: integer (nullable = true)\n",
      " |-- intFeature_8: integer (nullable = true)\n",
      " |-- intFeature_9: integer (nullable = true)\n",
      " |-- intFeature_10: integer (nullable = true)\n",
      " |-- intFeature_11: integer (nullable = true)\n",
      " |-- intFeature_12: integer (nullable = true)\n",
      " |-- intFeature_13: integer (nullable = true)\n",
      " |-- catFeature_1: string (nullable = true)\n",
      " |-- catFeature_2: string (nullable = true)\n",
      " |-- catFeature_3: string (nullable = true)\n",
      " |-- catFeature_4: string (nullable = true)\n",
      " |-- catFeature_5: string (nullable = true)\n",
      " |-- catFeature_6: string (nullable = true)\n",
      " |-- catFeature_7: string (nullable = true)\n",
      " |-- catFeature_8: string (nullable = true)\n",
      " |-- catFeature_9: string (nullable = true)\n",
      " |-- catFeature_10: string (nullable = true)\n",
      " |-- catFeature_11: string (nullable = true)\n",
      " |-- catFeature_12: string (nullable = true)\n",
      " |-- catFeature_13: string (nullable = true)\n",
      " |-- catFeature_14: string (nullable = true)\n",
      " |-- catFeature_15: string (nullable = true)\n",
      " |-- catFeature_16: string (nullable = true)\n",
      " |-- catFeature_17: string (nullable = true)\n",
      " |-- catFeature_18: string (nullable = true)\n",
      " |-- catFeature_19: string (nullable = true)\n",
      " |-- catFeature_20: string (nullable = true)\n",
      " |-- catFeature_21: string (nullable = true)\n",
      " |-- catFeature_22: string (nullable = true)\n",
      " |-- catFeature_23: string (nullable = true)\n",
      " |-- catFeature_24: string (nullable = true)\n",
      " |-- catFeature_25: string (nullable = true)\n",
      " |-- catFeature_26: string (nullable = true)\n",
      "\n"
     ]
    }
   ],
   "source": [
    "# Vérification des opérations\n",
    "df.printSchema()"
   ]
  },
  {
   "cell_type": "code",
   "execution_count": 11,
   "metadata": {
    "scrolled": true
   },
   "outputs": [
    {
     "data": {
      "text/html": [
       "<div>\n",
       "<style scoped>\n",
       "    .dataframe tbody tr th:only-of-type {\n",
       "        vertical-align: middle;\n",
       "    }\n",
       "\n",
       "    .dataframe tbody tr th {\n",
       "        vertical-align: top;\n",
       "    }\n",
       "\n",
       "    .dataframe thead th {\n",
       "        text-align: right;\n",
       "    }\n",
       "</style>\n",
       "<table border=\"1\" class=\"dataframe\">\n",
       "  <thead>\n",
       "    <tr style=\"text-align: right;\">\n",
       "      <th></th>\n",
       "      <th>0</th>\n",
       "      <th>1</th>\n",
       "      <th>2</th>\n",
       "      <th>3</th>\n",
       "      <th>4</th>\n",
       "    </tr>\n",
       "  </thead>\n",
       "  <tbody>\n",
       "    <tr>\n",
       "      <th>label</th>\n",
       "      <td>0</td>\n",
       "      <td>0</td>\n",
       "      <td>0</td>\n",
       "      <td>0</td>\n",
       "      <td>0</td>\n",
       "    </tr>\n",
       "    <tr>\n",
       "      <th>intFeature_1</th>\n",
       "      <td>1</td>\n",
       "      <td>2</td>\n",
       "      <td>2</td>\n",
       "      <td>NaN</td>\n",
       "      <td>3</td>\n",
       "    </tr>\n",
       "    <tr>\n",
       "      <th>intFeature_2</th>\n",
       "      <td>1</td>\n",
       "      <td>0</td>\n",
       "      <td>0</td>\n",
       "      <td>893</td>\n",
       "      <td>-1</td>\n",
       "    </tr>\n",
       "    <tr>\n",
       "      <th>intFeature_3</th>\n",
       "      <td>5</td>\n",
       "      <td>44</td>\n",
       "      <td>1</td>\n",
       "      <td>NaN</td>\n",
       "      <td>NaN</td>\n",
       "    </tr>\n",
       "    <tr>\n",
       "      <th>intFeature_4</th>\n",
       "      <td>0</td>\n",
       "      <td>1</td>\n",
       "      <td>14</td>\n",
       "      <td>NaN</td>\n",
       "      <td>0</td>\n",
       "    </tr>\n",
       "    <tr>\n",
       "      <th>intFeature_5</th>\n",
       "      <td>1382</td>\n",
       "      <td>102</td>\n",
       "      <td>767</td>\n",
       "      <td>4392</td>\n",
       "      <td>2</td>\n",
       "    </tr>\n",
       "    <tr>\n",
       "      <th>intFeature_6</th>\n",
       "      <td>4</td>\n",
       "      <td>8</td>\n",
       "      <td>89</td>\n",
       "      <td>NaN</td>\n",
       "      <td>0</td>\n",
       "    </tr>\n",
       "    <tr>\n",
       "      <th>intFeature_7</th>\n",
       "      <td>15</td>\n",
       "      <td>2</td>\n",
       "      <td>4</td>\n",
       "      <td>0</td>\n",
       "      <td>3</td>\n",
       "    </tr>\n",
       "    <tr>\n",
       "      <th>intFeature_8</th>\n",
       "      <td>2</td>\n",
       "      <td>2</td>\n",
       "      <td>2</td>\n",
       "      <td>0</td>\n",
       "      <td>0</td>\n",
       "    </tr>\n",
       "    <tr>\n",
       "      <th>intFeature_9</th>\n",
       "      <td>181</td>\n",
       "      <td>4</td>\n",
       "      <td>245</td>\n",
       "      <td>0</td>\n",
       "      <td>0</td>\n",
       "    </tr>\n",
       "    <tr>\n",
       "      <th>intFeature_10</th>\n",
       "      <td>1</td>\n",
       "      <td>1</td>\n",
       "      <td>1</td>\n",
       "      <td>NaN</td>\n",
       "      <td>1</td>\n",
       "    </tr>\n",
       "    <tr>\n",
       "      <th>intFeature_11</th>\n",
       "      <td>2</td>\n",
       "      <td>1</td>\n",
       "      <td>3</td>\n",
       "      <td>0</td>\n",
       "      <td>1</td>\n",
       "    </tr>\n",
       "    <tr>\n",
       "      <th>intFeature_12</th>\n",
       "      <td>NaN</td>\n",
       "      <td>NaN</td>\n",
       "      <td>3</td>\n",
       "      <td>NaN</td>\n",
       "      <td>NaN</td>\n",
       "    </tr>\n",
       "    <tr>\n",
       "      <th>intFeature_13</th>\n",
       "      <td>2</td>\n",
       "      <td>4</td>\n",
       "      <td>45</td>\n",
       "      <td>NaN</td>\n",
       "      <td>0</td>\n",
       "    </tr>\n",
       "    <tr>\n",
       "      <th>catFeature_1</th>\n",
       "      <td>68fd1e64</td>\n",
       "      <td>68fd1e64</td>\n",
       "      <td>287e684f</td>\n",
       "      <td>68fd1e64</td>\n",
       "      <td>8cf07265</td>\n",
       "    </tr>\n",
       "    <tr>\n",
       "      <th>catFeature_2</th>\n",
       "      <td>80e26c9b</td>\n",
       "      <td>f0cf0024</td>\n",
       "      <td>0a519c5c</td>\n",
       "      <td>2c16a946</td>\n",
       "      <td>ae46a29d</td>\n",
       "    </tr>\n",
       "    <tr>\n",
       "      <th>catFeature_3</th>\n",
       "      <td>fb936136</td>\n",
       "      <td>6f67f7e5</td>\n",
       "      <td>02cf9876</td>\n",
       "      <td>a9a87e68</td>\n",
       "      <td>c81688bb</td>\n",
       "    </tr>\n",
       "    <tr>\n",
       "      <th>catFeature_4</th>\n",
       "      <td>7b4723c4</td>\n",
       "      <td>41274cd7</td>\n",
       "      <td>c18be181</td>\n",
       "      <td>2e17d6f6</td>\n",
       "      <td>f922efad</td>\n",
       "    </tr>\n",
       "    <tr>\n",
       "      <th>catFeature_5</th>\n",
       "      <td>25c83c98</td>\n",
       "      <td>25c83c98</td>\n",
       "      <td>25c83c98</td>\n",
       "      <td>25c83c98</td>\n",
       "      <td>25c83c98</td>\n",
       "    </tr>\n",
       "    <tr>\n",
       "      <th>catFeature_6</th>\n",
       "      <td>7e0ccccf</td>\n",
       "      <td>fe6b92e5</td>\n",
       "      <td>7e0ccccf</td>\n",
       "      <td>fe6b92e5</td>\n",
       "      <td>13718bbd</td>\n",
       "    </tr>\n",
       "    <tr>\n",
       "      <th>catFeature_7</th>\n",
       "      <td>de7995b8</td>\n",
       "      <td>922afcc0</td>\n",
       "      <td>c78204a1</td>\n",
       "      <td>2e8a689b</td>\n",
       "      <td>ad9fa255</td>\n",
       "    </tr>\n",
       "    <tr>\n",
       "      <th>catFeature_8</th>\n",
       "      <td>1f89b562</td>\n",
       "      <td>0b153874</td>\n",
       "      <td>0b153874</td>\n",
       "      <td>0b153874</td>\n",
       "      <td>0b153874</td>\n",
       "    </tr>\n",
       "    <tr>\n",
       "      <th>catFeature_9</th>\n",
       "      <td>a73ee510</td>\n",
       "      <td>a73ee510</td>\n",
       "      <td>a73ee510</td>\n",
       "      <td>a73ee510</td>\n",
       "      <td>a73ee510</td>\n",
       "    </tr>\n",
       "    <tr>\n",
       "      <th>catFeature_10</th>\n",
       "      <td>a8cd5504</td>\n",
       "      <td>2b53e5fb</td>\n",
       "      <td>3b08e48b</td>\n",
       "      <td>efea433b</td>\n",
       "      <td>5282c137</td>\n",
       "    </tr>\n",
       "    <tr>\n",
       "      <th>catFeature_11</th>\n",
       "      <td>b2cb9c98</td>\n",
       "      <td>4f1b46f3</td>\n",
       "      <td>5f5e6091</td>\n",
       "      <td>e51ddf94</td>\n",
       "      <td>e5d8af57</td>\n",
       "    </tr>\n",
       "    <tr>\n",
       "      <th>catFeature_12</th>\n",
       "      <td>37c9c164</td>\n",
       "      <td>623049e6</td>\n",
       "      <td>8fe001f4</td>\n",
       "      <td>a30567ca</td>\n",
       "      <td>66a76a26</td>\n",
       "    </tr>\n",
       "    <tr>\n",
       "      <th>catFeature_13</th>\n",
       "      <td>2824a5f6</td>\n",
       "      <td>d7020589</td>\n",
       "      <td>aa655a2f</td>\n",
       "      <td>3516f6e6</td>\n",
       "      <td>f06c53ac</td>\n",
       "    </tr>\n",
       "    <tr>\n",
       "      <th>catFeature_14</th>\n",
       "      <td>1adce6ef</td>\n",
       "      <td>b28479f6</td>\n",
       "      <td>07d13a8f</td>\n",
       "      <td>07d13a8f</td>\n",
       "      <td>1adce6ef</td>\n",
       "    </tr>\n",
       "    <tr>\n",
       "      <th>catFeature_15</th>\n",
       "      <td>8ba8b39a</td>\n",
       "      <td>e6c5b5cd</td>\n",
       "      <td>6dc710ed</td>\n",
       "      <td>18231224</td>\n",
       "      <td>8ff4b403</td>\n",
       "    </tr>\n",
       "    <tr>\n",
       "      <th>catFeature_16</th>\n",
       "      <td>891b62e7</td>\n",
       "      <td>c92f3b61</td>\n",
       "      <td>36103458</td>\n",
       "      <td>52b8680f</td>\n",
       "      <td>01adbab4</td>\n",
       "    </tr>\n",
       "    <tr>\n",
       "      <th>catFeature_17</th>\n",
       "      <td>e5ba7672</td>\n",
       "      <td>07c540c4</td>\n",
       "      <td>8efede7f</td>\n",
       "      <td>1e88c74f</td>\n",
       "      <td>1e88c74f</td>\n",
       "    </tr>\n",
       "    <tr>\n",
       "      <th>catFeature_18</th>\n",
       "      <td>f54016b9</td>\n",
       "      <td>b04e4670</td>\n",
       "      <td>3412118d</td>\n",
       "      <td>74ef3502</td>\n",
       "      <td>26b3c7a7</td>\n",
       "    </tr>\n",
       "    <tr>\n",
       "      <th>catFeature_19</th>\n",
       "      <td>21ddcdc9</td>\n",
       "      <td>21ddcdc9</td>\n",
       "      <td></td>\n",
       "      <td></td>\n",
       "      <td></td>\n",
       "    </tr>\n",
       "    <tr>\n",
       "      <th>catFeature_20</th>\n",
       "      <td>b1252a9d</td>\n",
       "      <td>5840adea</td>\n",
       "      <td></td>\n",
       "      <td></td>\n",
       "      <td></td>\n",
       "    </tr>\n",
       "    <tr>\n",
       "      <th>catFeature_21</th>\n",
       "      <td>07b5194c</td>\n",
       "      <td>60f6221e</td>\n",
       "      <td>e587c466</td>\n",
       "      <td>6b3a5ca6</td>\n",
       "      <td>21c9516a</td>\n",
       "    </tr>\n",
       "    <tr>\n",
       "      <th>catFeature_22</th>\n",
       "      <td></td>\n",
       "      <td></td>\n",
       "      <td>ad3062eb</td>\n",
       "      <td></td>\n",
       "      <td></td>\n",
       "    </tr>\n",
       "    <tr>\n",
       "      <th>catFeature_23</th>\n",
       "      <td>3a171ecb</td>\n",
       "      <td>3a171ecb</td>\n",
       "      <td>3a171ecb</td>\n",
       "      <td>3a171ecb</td>\n",
       "      <td>32c7478e</td>\n",
       "    </tr>\n",
       "    <tr>\n",
       "      <th>catFeature_24</th>\n",
       "      <td>c5c50484</td>\n",
       "      <td>43f13e8b</td>\n",
       "      <td>3b183c5c</td>\n",
       "      <td>9117a34a</td>\n",
       "      <td>b34f3128</td>\n",
       "    </tr>\n",
       "    <tr>\n",
       "      <th>catFeature_25</th>\n",
       "      <td>e8b83407</td>\n",
       "      <td>e8b83407</td>\n",
       "      <td></td>\n",
       "      <td></td>\n",
       "      <td></td>\n",
       "    </tr>\n",
       "    <tr>\n",
       "      <th>catFeature_26</th>\n",
       "      <td>9727dd16</td>\n",
       "      <td>731c3655</td>\n",
       "      <td></td>\n",
       "      <td></td>\n",
       "      <td></td>\n",
       "    </tr>\n",
       "  </tbody>\n",
       "</table>\n",
       "</div>"
      ],
      "text/plain": [
       "                      0         1         2         3         4\n",
       "label                 0         0         0         0         0\n",
       "intFeature_1          1         2         2       NaN         3\n",
       "intFeature_2          1         0         0       893        -1\n",
       "intFeature_3          5        44         1       NaN       NaN\n",
       "intFeature_4          0         1        14       NaN         0\n",
       "intFeature_5       1382       102       767      4392         2\n",
       "intFeature_6          4         8        89       NaN         0\n",
       "intFeature_7         15         2         4         0         3\n",
       "intFeature_8          2         2         2         0         0\n",
       "intFeature_9        181         4       245         0         0\n",
       "intFeature_10         1         1         1       NaN         1\n",
       "intFeature_11         2         1         3         0         1\n",
       "intFeature_12       NaN       NaN         3       NaN       NaN\n",
       "intFeature_13         2         4        45       NaN         0\n",
       "catFeature_1   68fd1e64  68fd1e64  287e684f  68fd1e64  8cf07265\n",
       "catFeature_2   80e26c9b  f0cf0024  0a519c5c  2c16a946  ae46a29d\n",
       "catFeature_3   fb936136  6f67f7e5  02cf9876  a9a87e68  c81688bb\n",
       "catFeature_4   7b4723c4  41274cd7  c18be181  2e17d6f6  f922efad\n",
       "catFeature_5   25c83c98  25c83c98  25c83c98  25c83c98  25c83c98\n",
       "catFeature_6   7e0ccccf  fe6b92e5  7e0ccccf  fe6b92e5  13718bbd\n",
       "catFeature_7   de7995b8  922afcc0  c78204a1  2e8a689b  ad9fa255\n",
       "catFeature_8   1f89b562  0b153874  0b153874  0b153874  0b153874\n",
       "catFeature_9   a73ee510  a73ee510  a73ee510  a73ee510  a73ee510\n",
       "catFeature_10  a8cd5504  2b53e5fb  3b08e48b  efea433b  5282c137\n",
       "catFeature_11  b2cb9c98  4f1b46f3  5f5e6091  e51ddf94  e5d8af57\n",
       "catFeature_12  37c9c164  623049e6  8fe001f4  a30567ca  66a76a26\n",
       "catFeature_13  2824a5f6  d7020589  aa655a2f  3516f6e6  f06c53ac\n",
       "catFeature_14  1adce6ef  b28479f6  07d13a8f  07d13a8f  1adce6ef\n",
       "catFeature_15  8ba8b39a  e6c5b5cd  6dc710ed  18231224  8ff4b403\n",
       "catFeature_16  891b62e7  c92f3b61  36103458  52b8680f  01adbab4\n",
       "catFeature_17  e5ba7672  07c540c4  8efede7f  1e88c74f  1e88c74f\n",
       "catFeature_18  f54016b9  b04e4670  3412118d  74ef3502  26b3c7a7\n",
       "catFeature_19  21ddcdc9  21ddcdc9                              \n",
       "catFeature_20  b1252a9d  5840adea                              \n",
       "catFeature_21  07b5194c  60f6221e  e587c466  6b3a5ca6  21c9516a\n",
       "catFeature_22                      ad3062eb                    \n",
       "catFeature_23  3a171ecb  3a171ecb  3a171ecb  3a171ecb  32c7478e\n",
       "catFeature_24  c5c50484  43f13e8b  3b183c5c  9117a34a  b34f3128\n",
       "catFeature_25  e8b83407  e8b83407                              \n",
       "catFeature_26  9727dd16  731c3655                              "
      ]
     },
     "execution_count": 11,
     "metadata": {},
     "output_type": "execute_result"
    }
   ],
   "source": [
    "import pandas as pd\n",
    "pd.DataFrame(df.take(5), columns=df.columns).transpose()"
   ]
  },
  {
   "cell_type": "markdown",
   "metadata": {},
   "source": [
    "### Visualisation des valeurs dans les colonnes d'entiers"
   ]
  },
  {
   "cell_type": "code",
   "execution_count": 12,
   "metadata": {},
   "outputs": [
    {
     "data": {
      "image/png": "[encoded data removed]",
      "text/plain": [
       "<Figure size 2160x1080 with 1 Axes>"
      ]
     },
     "metadata": {
      "needs_background": "light"
     },
     "output_type": "display_data"
    }
   ],
   "source": [
    "import matplotlib.pyplot as plt\n",
    "%matplotlib inline\n",
    "\n",
    "plt.figure(figsize=(30,15))\n",
    "data=df.toPandas()\n",
    "data.boxplot()\n",
    "plt.show()"
   ]
  },
  {
   "cell_type": "code",
   "execution_count": 13,
   "metadata": {
    "scrolled": false
   },
   "outputs": [
    {
     "data": {
      "text/html": [
       "<div>\n",
       "<style scoped>\n",
       "    .dataframe tbody tr th:only-of-type {\n",
       "        vertical-align: middle;\n",
       "    }\n",
       "\n",
       "    .dataframe tbody tr th {\n",
       "        vertical-align: top;\n",
       "    }\n",
       "\n",
       "    .dataframe thead th {\n",
       "        text-align: right;\n",
       "    }\n",
       "</style>\n",
       "<table border=\"1\" class=\"dataframe\">\n",
       "  <thead>\n",
       "    <tr style=\"text-align: right;\">\n",
       "      <th></th>\n",
       "      <th>count</th>\n",
       "      <th>mean</th>\n",
       "      <th>std</th>\n",
       "      <th>min</th>\n",
       "      <th>25%</th>\n",
       "      <th>50%</th>\n",
       "      <th>75%</th>\n",
       "      <th>max</th>\n",
       "    </tr>\n",
       "  </thead>\n",
       "  <tbody>\n",
       "    <tr>\n",
       "      <th>label</th>\n",
       "      <td>1000000.0</td>\n",
       "      <td>0.254949</td>\n",
       "      <td>0.435833</td>\n",
       "      <td>0.0</td>\n",
       "      <td>0.0</td>\n",
       "      <td>0.0</td>\n",
       "      <td>1.0</td>\n",
       "      <td>1.0</td>\n",
       "    </tr>\n",
       "    <tr>\n",
       "      <th>intFeature_1</th>\n",
       "      <td>576997.0</td>\n",
       "      <td>3.238400</td>\n",
       "      <td>8.944151</td>\n",
       "      <td>0.0</td>\n",
       "      <td>0.0</td>\n",
       "      <td>1.0</td>\n",
       "      <td>3.0</td>\n",
       "      <td>780.0</td>\n",
       "    </tr>\n",
       "    <tr>\n",
       "      <th>intFeature_2</th>\n",
       "      <td>1000000.0</td>\n",
       "      <td>93.965184</td>\n",
       "      <td>349.884675</td>\n",
       "      <td>-2.0</td>\n",
       "      <td>0.0</td>\n",
       "      <td>2.0</td>\n",
       "      <td>32.0</td>\n",
       "      <td>18522.0</td>\n",
       "    </tr>\n",
       "    <tr>\n",
       "      <th>intFeature_3</th>\n",
       "      <td>764946.0</td>\n",
       "      <td>21.094269</td>\n",
       "      <td>344.010001</td>\n",
       "      <td>0.0</td>\n",
       "      <td>2.0</td>\n",
       "      <td>5.0</td>\n",
       "      <td>14.0</td>\n",
       "      <td>65535.0</td>\n",
       "    </tr>\n",
       "    <tr>\n",
       "      <th>intFeature_4</th>\n",
       "      <td>750884.0</td>\n",
       "      <td>6.954270</td>\n",
       "      <td>8.554014</td>\n",
       "      <td>0.0</td>\n",
       "      <td>2.0</td>\n",
       "      <td>4.0</td>\n",
       "      <td>9.0</td>\n",
       "      <td>507.0</td>\n",
       "    </tr>\n",
       "    <tr>\n",
       "      <th>intFeature_5</th>\n",
       "      <td>975464.0</td>\n",
       "      <td>18616.531735</td>\n",
       "      <td>67686.651149</td>\n",
       "      <td>0.0</td>\n",
       "      <td>829.0</td>\n",
       "      <td>2548.0</td>\n",
       "      <td>10163.0</td>\n",
       "      <td>2527030.0</td>\n",
       "    </tr>\n",
       "    <tr>\n",
       "      <th>intFeature_6</th>\n",
       "      <td>778260.0</td>\n",
       "      <td>116.761653</td>\n",
       "      <td>456.056847</td>\n",
       "      <td>0.0</td>\n",
       "      <td>8.0</td>\n",
       "      <td>33.0</td>\n",
       "      <td>102.0</td>\n",
       "      <td>233523.0</td>\n",
       "    </tr>\n",
       "    <tr>\n",
       "      <th>intFeature_7</th>\n",
       "      <td>959166.0</td>\n",
       "      <td>14.592224</td>\n",
       "      <td>58.277459</td>\n",
       "      <td>0.0</td>\n",
       "      <td>1.0</td>\n",
       "      <td>3.0</td>\n",
       "      <td>11.0</td>\n",
       "      <td>8807.0</td>\n",
       "    </tr>\n",
       "    <tr>\n",
       "      <th>intFeature_8</th>\n",
       "      <td>999338.0</td>\n",
       "      <td>13.378894</td>\n",
       "      <td>32.345836</td>\n",
       "      <td>0.0</td>\n",
       "      <td>2.0</td>\n",
       "      <td>8.0</td>\n",
       "      <td>20.0</td>\n",
       "      <td>5064.0</td>\n",
       "    </tr>\n",
       "    <tr>\n",
       "      <th>intFeature_9</th>\n",
       "      <td>959166.0</td>\n",
       "      <td>105.450931</td>\n",
       "      <td>217.405401</td>\n",
       "      <td>0.0</td>\n",
       "      <td>10.0</td>\n",
       "      <td>39.0</td>\n",
       "      <td>110.0</td>\n",
       "      <td>19327.0</td>\n",
       "    </tr>\n",
       "    <tr>\n",
       "      <th>intFeature_10</th>\n",
       "      <td>576997.0</td>\n",
       "      <td>0.572658</td>\n",
       "      <td>0.679937</td>\n",
       "      <td>0.0</td>\n",
       "      <td>0.0</td>\n",
       "      <td>0.0</td>\n",
       "      <td>1.0</td>\n",
       "      <td>8.0</td>\n",
       "    </tr>\n",
       "    <tr>\n",
       "      <th>intFeature_11</th>\n",
       "      <td>959166.0</td>\n",
       "      <td>2.507449</td>\n",
       "      <td>4.825370</td>\n",
       "      <td>0.0</td>\n",
       "      <td>0.0</td>\n",
       "      <td>1.0</td>\n",
       "      <td>3.0</td>\n",
       "      <td>147.0</td>\n",
       "    </tr>\n",
       "    <tr>\n",
       "      <th>intFeature_12</th>\n",
       "      <td>229943.0</td>\n",
       "      <td>0.979991</td>\n",
       "      <td>6.003874</td>\n",
       "      <td>0.0</td>\n",
       "      <td>0.0</td>\n",
       "      <td>0.0</td>\n",
       "      <td>0.0</td>\n",
       "      <td>768.0</td>\n",
       "    </tr>\n",
       "    <tr>\n",
       "      <th>intFeature_13</th>\n",
       "      <td>750884.0</td>\n",
       "      <td>7.630003</td>\n",
       "      <td>35.071487</td>\n",
       "      <td>0.0</td>\n",
       "      <td>2.0</td>\n",
       "      <td>4.0</td>\n",
       "      <td>9.0</td>\n",
       "      <td>6702.0</td>\n",
       "    </tr>\n",
       "  </tbody>\n",
       "</table>\n",
       "</div>"
      ],
      "text/plain": [
       "                   count          mean           std  min    25%     50%  \\\n",
       "label          1000000.0      0.254949      0.435833  0.0    0.0     0.0   \n",
       "intFeature_1    576997.0      3.238400      8.944151  0.0    0.0     1.0   \n",
       "intFeature_2   1000000.0     93.965184    349.884675 -2.0    0.0     2.0   \n",
       "intFeature_3    764946.0     21.094269    344.010001  0.0    2.0     5.0   \n",
       "intFeature_4    750884.0      6.954270      8.554014  0.0    2.0     4.0   \n",
       "intFeature_5    975464.0  18616.531735  67686.651149  0.0  829.0  2548.0   \n",
       "intFeature_6    778260.0    116.761653    456.056847  0.0    8.0    33.0   \n",
       "intFeature_7    959166.0     14.592224     58.277459  0.0    1.0     3.0   \n",
       "intFeature_8    999338.0     13.378894     32.345836  0.0    2.0     8.0   \n",
       "intFeature_9    959166.0    105.450931    217.405401  0.0   10.0    39.0   \n",
       "intFeature_10   576997.0      0.572658      0.679937  0.0    0.0     0.0   \n",
       "intFeature_11   959166.0      2.507449      4.825370  0.0    0.0     1.0   \n",
       "intFeature_12   229943.0      0.979991      6.003874  0.0    0.0     0.0   \n",
       "intFeature_13   750884.0      7.630003     35.071487  0.0    2.0     4.0   \n",
       "\n",
       "                   75%        max  \n",
       "label              1.0        1.0  \n",
       "intFeature_1       3.0      780.0  \n",
       "intFeature_2      32.0    18522.0  \n",
       "intFeature_3      14.0    65535.0  \n",
       "intFeature_4       9.0      507.0  \n",
       "intFeature_5   10163.0  2527030.0  \n",
       "intFeature_6     102.0   233523.0  \n",
       "intFeature_7      11.0     8807.0  \n",
       "intFeature_8      20.0     5064.0  \n",
       "intFeature_9     110.0    19327.0  \n",
       "intFeature_10      1.0        8.0  \n",
       "intFeature_11      3.0      147.0  \n",
       "intFeature_12      0.0      768.0  \n",
       "intFeature_13      9.0     6702.0  "
      ]
     },
     "execution_count": 13,
     "metadata": {},
     "output_type": "execute_result"
    }
   ],
   "source": [
    "df.toPandas().describe().transpose()"
   ]
  },
  {
   "cell_type": "markdown",
   "metadata": {},
   "source": [
    "### Répartition des classes"
   ]
  },
  {
   "cell_type": "code",
   "execution_count": 14,
   "metadata": {},
   "outputs": [
    {
     "name": "stdout",
     "output_type": "stream",
     "text": [
      "+-----+------+\n",
      "|label| count|\n",
      "+-----+------+\n",
      "|    1|254949|\n",
      "|    0|745051|\n",
      "+-----+------+\n",
      "\n"
     ]
    }
   ],
   "source": [
    "rep = df.groupBy(\"label\").count()\n",
    "rep.show()"
   ]
  },
  {
   "cell_type": "code",
   "execution_count": 15,
   "metadata": {},
   "outputs": [
    {
     "name": "stdout",
     "output_type": "stream",
     "text": [
      "Répartition des classes :\n",
      " 0 : 74.505100% \n",
      " 1 : 25.494900%\n"
     ]
    }
   ],
   "source": [
    "counts = rep.select(\"count\").collect()\n",
    "number_0 = counts[1][0]\n",
    "number_1 = counts[0][0]\n",
    "print(\"Répartition des classes :\\n 0 : {:2%} \\n 1 : {:2%}\"\n",
    "      .format(number_0 / (number_0 + number_1), number_1 / (number_0 + number_1)))"
   ]
  },
  {
   "cell_type": "markdown",
   "metadata": {},
   "source": [
    "### Suppression de lignes\n",
    "\n",
    "Suppression des lignes ayant un null dans une colonne d'entier, et remplacement des null par NA dans les colonnes catégorielles."
   ]
  },
  {
   "cell_type": "code",
   "execution_count": 16,
   "metadata": {},
   "outputs": [],
   "source": [
    "df = df.na.replace(\"\", \"na\", catCols)\n",
    "\n",
    "df = df.na.drop()"
   ]
  },
  {
   "cell_type": "code",
   "execution_count": 17,
   "metadata": {},
   "outputs": [
    {
     "data": {
      "text/html": [
       "<div>\n",
       "<style scoped>\n",
       "    .dataframe tbody tr th:only-of-type {\n",
       "        vertical-align: middle;\n",
       "    }\n",
       "\n",
       "    .dataframe tbody tr th {\n",
       "        vertical-align: top;\n",
       "    }\n",
       "\n",
       "    .dataframe thead th {\n",
       "        text-align: right;\n",
       "    }\n",
       "</style>\n",
       "<table border=\"1\" class=\"dataframe\">\n",
       "  <thead>\n",
       "    <tr style=\"text-align: right;\">\n",
       "      <th></th>\n",
       "      <th>count</th>\n",
       "      <th>mean</th>\n",
       "      <th>std</th>\n",
       "      <th>min</th>\n",
       "      <th>25%</th>\n",
       "      <th>50%</th>\n",
       "      <th>75%</th>\n",
       "      <th>max</th>\n",
       "    </tr>\n",
       "  </thead>\n",
       "  <tbody>\n",
       "    <tr>\n",
       "      <th>label</th>\n",
       "      <td>118604.0</td>\n",
       "      <td>0.299172</td>\n",
       "      <td>0.457897</td>\n",
       "      <td>0.0</td>\n",
       "      <td>0.0</td>\n",
       "      <td>0.0</td>\n",
       "      <td>1.0</td>\n",
       "      <td>1.0</td>\n",
       "    </tr>\n",
       "    <tr>\n",
       "      <th>intFeature_1</th>\n",
       "      <td>118604.0</td>\n",
       "      <td>5.284063</td>\n",
       "      <td>12.771607</td>\n",
       "      <td>0.0</td>\n",
       "      <td>0.0</td>\n",
       "      <td>1.0</td>\n",
       "      <td>5.0</td>\n",
       "      <td>780.0</td>\n",
       "    </tr>\n",
       "    <tr>\n",
       "      <th>intFeature_2</th>\n",
       "      <td>118604.0</td>\n",
       "      <td>92.424075</td>\n",
       "      <td>332.011876</td>\n",
       "      <td>-2.0</td>\n",
       "      <td>1.0</td>\n",
       "      <td>5.0</td>\n",
       "      <td>39.0</td>\n",
       "      <td>7278.0</td>\n",
       "    </tr>\n",
       "    <tr>\n",
       "      <th>intFeature_3</th>\n",
       "      <td>118604.0</td>\n",
       "      <td>16.715954</td>\n",
       "      <td>107.310304</td>\n",
       "      <td>0.0</td>\n",
       "      <td>2.0</td>\n",
       "      <td>6.0</td>\n",
       "      <td>15.0</td>\n",
       "      <td>19057.0</td>\n",
       "    </tr>\n",
       "    <tr>\n",
       "      <th>intFeature_4</th>\n",
       "      <td>118604.0</td>\n",
       "      <td>8.770269</td>\n",
       "      <td>9.622896</td>\n",
       "      <td>0.0</td>\n",
       "      <td>2.0</td>\n",
       "      <td>6.0</td>\n",
       "      <td>12.0</td>\n",
       "      <td>417.0</td>\n",
       "    </tr>\n",
       "    <tr>\n",
       "      <th>intFeature_5</th>\n",
       "      <td>118604.0</td>\n",
       "      <td>1799.595275</td>\n",
       "      <td>3675.804453</td>\n",
       "      <td>0.0</td>\n",
       "      <td>43.0</td>\n",
       "      <td>972.0</td>\n",
       "      <td>2191.0</td>\n",
       "      <td>157880.0</td>\n",
       "    </tr>\n",
       "    <tr>\n",
       "      <th>intFeature_6</th>\n",
       "      <td>118604.0</td>\n",
       "      <td>87.319095</td>\n",
       "      <td>256.461947</td>\n",
       "      <td>0.0</td>\n",
       "      <td>7.0</td>\n",
       "      <td>26.0</td>\n",
       "      <td>80.0</td>\n",
       "      <td>20026.0</td>\n",
       "    </tr>\n",
       "    <tr>\n",
       "      <th>intFeature_7</th>\n",
       "      <td>118604.0</td>\n",
       "      <td>44.201199</td>\n",
       "      <td>124.572995</td>\n",
       "      <td>0.0</td>\n",
       "      <td>5.0</td>\n",
       "      <td>14.0</td>\n",
       "      <td>38.0</td>\n",
       "      <td>8807.0</td>\n",
       "    </tr>\n",
       "    <tr>\n",
       "      <th>intFeature_8</th>\n",
       "      <td>118604.0</td>\n",
       "      <td>20.752470</td>\n",
       "      <td>14.472857</td>\n",
       "      <td>0.0</td>\n",
       "      <td>8.0</td>\n",
       "      <td>18.0</td>\n",
       "      <td>32.0</td>\n",
       "      <td>57.0</td>\n",
       "    </tr>\n",
       "    <tr>\n",
       "      <th>intFeature_9</th>\n",
       "      <td>118604.0</td>\n",
       "      <td>218.042587</td>\n",
       "      <td>341.553557</td>\n",
       "      <td>0.0</td>\n",
       "      <td>34.0</td>\n",
       "      <td>102.0</td>\n",
       "      <td>266.0</td>\n",
       "      <td>12661.0</td>\n",
       "    </tr>\n",
       "    <tr>\n",
       "      <th>intFeature_10</th>\n",
       "      <td>118604.0</td>\n",
       "      <td>0.688872</td>\n",
       "      <td>0.768764</td>\n",
       "      <td>0.0</td>\n",
       "      <td>0.0</td>\n",
       "      <td>1.0</td>\n",
       "      <td>1.0</td>\n",
       "      <td>7.0</td>\n",
       "    </tr>\n",
       "    <tr>\n",
       "      <th>intFeature_11</th>\n",
       "      <td>118604.0</td>\n",
       "      <td>5.836801</td>\n",
       "      <td>8.310640</td>\n",
       "      <td>0.0</td>\n",
       "      <td>1.0</td>\n",
       "      <td>3.0</td>\n",
       "      <td>7.0</td>\n",
       "      <td>147.0</td>\n",
       "    </tr>\n",
       "    <tr>\n",
       "      <th>intFeature_12</th>\n",
       "      <td>118604.0</td>\n",
       "      <td>1.272023</td>\n",
       "      <td>7.399622</td>\n",
       "      <td>0.0</td>\n",
       "      <td>0.0</td>\n",
       "      <td>0.0</td>\n",
       "      <td>1.0</td>\n",
       "      <td>768.0</td>\n",
       "    </tr>\n",
       "    <tr>\n",
       "      <th>intFeature_13</th>\n",
       "      <td>118604.0</td>\n",
       "      <td>8.734385</td>\n",
       "      <td>12.091149</td>\n",
       "      <td>0.0</td>\n",
       "      <td>2.0</td>\n",
       "      <td>5.0</td>\n",
       "      <td>11.0</td>\n",
       "      <td>589.0</td>\n",
       "    </tr>\n",
       "  </tbody>\n",
       "</table>\n",
       "</div>"
      ],
      "text/plain": [
       "                  count         mean          std  min   25%    50%     75%  \\\n",
       "label          118604.0     0.299172     0.457897  0.0   0.0    0.0     1.0   \n",
       "intFeature_1   118604.0     5.284063    12.771607  0.0   0.0    1.0     5.0   \n",
       "intFeature_2   118604.0    92.424075   332.011876 -2.0   1.0    5.0    39.0   \n",
       "intFeature_3   118604.0    16.715954   107.310304  0.0   2.0    6.0    15.0   \n",
       "intFeature_4   118604.0     8.770269     9.622896  0.0   2.0    6.0    12.0   \n",
       "intFeature_5   118604.0  1799.595275  3675.804453  0.0  43.0  972.0  2191.0   \n",
       "intFeature_6   118604.0    87.319095   256.461947  0.0   7.0   26.0    80.0   \n",
       "intFeature_7   118604.0    44.201199   124.572995  0.0   5.0   14.0    38.0   \n",
       "intFeature_8   118604.0    20.752470    14.472857  0.0   8.0   18.0    32.0   \n",
       "intFeature_9   118604.0   218.042587   341.553557  0.0  34.0  102.0   266.0   \n",
       "intFeature_10  118604.0     0.688872     0.768764  0.0   0.0    1.0     1.0   \n",
       "intFeature_11  118604.0     5.836801     8.310640  0.0   1.0    3.0     7.0   \n",
       "intFeature_12  118604.0     1.272023     7.399622  0.0   0.0    0.0     1.0   \n",
       "intFeature_13  118604.0     8.734385    12.091149  0.0   2.0    5.0    11.0   \n",
       "\n",
       "                    max  \n",
       "label               1.0  \n",
       "intFeature_1      780.0  \n",
       "intFeature_2     7278.0  \n",
       "intFeature_3    19057.0  \n",
       "intFeature_4      417.0  \n",
       "intFeature_5   157880.0  \n",
       "intFeature_6    20026.0  \n",
       "intFeature_7     8807.0  \n",
       "intFeature_8       57.0  \n",
       "intFeature_9    12661.0  \n",
       "intFeature_10       7.0  \n",
       "intFeature_11     147.0  \n",
       "intFeature_12     768.0  \n",
       "intFeature_13     589.0  "
      ]
     },
     "execution_count": 17,
     "metadata": {},
     "output_type": "execute_result"
    }
   ],
   "source": [
    "df.toPandas().describe().transpose()"
   ]
  },
  {
   "cell_type": "markdown",
   "metadata": {},
   "source": [
    "### Nouvelle visualisation des colonnes d'entiers"
   ]
  },
  {
   "cell_type": "code",
   "execution_count": 18,
   "metadata": {},
   "outputs": [
    {
     "data": {
      "image/png": "[encoded data removed]",
      "text/plain": [
       "<Figure size 864x864 with 169 Axes>"
      ]
     },
     "metadata": {
      "needs_background": "light"
     },
     "output_type": "display_data"
    }
   ],
   "source": [
    "%matplotlib inline\n",
    "\n",
    "numdata = df.select(numCols).toPandas()\n",
    "\n",
    "axs = pd.plotting.scatter_matrix(numdata, figsize=(12, 12));\n",
    "\n",
    "n = len(numdata.columns)\n",
    "for i in range(n):\n",
    "    v = axs[i, 0]\n",
    "    v.yaxis.label.set_rotation(0)\n",
    "    v.yaxis.label.set_ha('right')\n",
    "    v.set_yticks(())\n",
    "    h = axs[n-1, i]\n",
    "    h.xaxis.label.set_rotation(90)\n",
    "    h.set_xticks(())"
   ]
  },
  {
   "cell_type": "markdown",
   "metadata": {},
   "source": [
    "#### Que faire de intFeature_10 ?\n",
    "\n",
    "intFeature_10 semble avoir une corrélation avec toutes les autres features entières, et il pourrait être intéressant d'essayer de l'enlever, ou bien de ne garder qu'elle, et voir si les résultats varient."
   ]
  },
  {
   "cell_type": "markdown",
   "metadata": {},
   "source": [
    "### Nouvelle répartition des classes"
   ]
  },
  {
   "cell_type": "code",
   "execution_count": 19,
   "metadata": {},
   "outputs": [
    {
     "name": "stdout",
     "output_type": "stream",
     "text": [
      "+-----+-----+\n",
      "|label|count|\n",
      "+-----+-----+\n",
      "|    1|35483|\n",
      "|    0|83121|\n",
      "+-----+-----+\n",
      "\n"
     ]
    }
   ],
   "source": [
    "rep = df.groupBy(\"label\").count()\n",
    "rep.show()"
   ]
  },
  {
   "cell_type": "code",
   "execution_count": 20,
   "metadata": {},
   "outputs": [
    {
     "name": "stdout",
     "output_type": "stream",
     "text": [
      "Répartition des classes :\n",
      " 0 : 70.082797% \n",
      " 1 : 29.917203%\n"
     ]
    }
   ],
   "source": [
    "counts = rep.select(\"count\").collect()\n",
    "number_0 = counts[1][0]\n",
    "number_1 = counts[0][0]\n",
    "print(\"Répartition des classes :\\n 0 : {:2%} \\n 1 : {:2%}\"\n",
    "      .format(number_0 / (number_0 + number_1), number_1 / (number_0 + number_1)))"
   ]
  },
  {
   "cell_type": "markdown",
   "metadata": {},
   "source": [
    "## Transformation des features\n",
    "\n",
    "Nous avons vu dans la documentation de MLlib que les algorithmes de classification préféraient avoir des valeurs encodées quand il s'agissait de colonnes catégorielles. C'est donc ce que nous avons fait"
   ]
  },
  {
   "cell_type": "code",
   "execution_count": 21,
   "metadata": {},
   "outputs": [],
   "source": [
    "from pyspark.ml import Pipeline"
   ]
  },
  {
   "cell_type": "markdown",
   "metadata": {},
   "source": [
    "### String indexing + OneHotEncoding des categorical features pour les données"
   ]
  },
  {
   "cell_type": "code",
   "execution_count": 22,
   "metadata": {},
   "outputs": [],
   "source": [
    "from pyspark.ml.feature import OneHotEncoderEstimator, StringIndexer\n",
    "\n",
    "stages = []\n",
    "\n",
    "for categoricalCol in catCols:\n",
    "    strIdx = StringIndexer(inputCol = categoricalCol, outputCol = categoricalCol + \"_Idx\")\n",
    "    oneHot = OneHotEncoderEstimator(inputCols = [strIdx.getOutputCol()], outputCols = [\"oneHot_\" + categoricalCol])\n",
    "    stages += [strIdx, oneHot]"
   ]
  },
  {
   "cell_type": "markdown",
   "metadata": {},
   "source": [
    "### Assemblage des features gardées dans un vecteur de features"
   ]
  },
  {
   "cell_type": "code",
   "execution_count": 23,
   "metadata": {},
   "outputs": [],
   "source": [
    "from pyspark.ml.feature import VectorAssembler\n",
    "\n",
    "assemblerInputs = numCols + [\"oneHot_\" + c for c in catCols]\n",
    "assembler = VectorAssembler(inputCols=assemblerInputs, outputCol=\"features\")\n",
    "stages += [assembler]"
   ]
  },
  {
   "cell_type": "code",
   "execution_count": 24,
   "metadata": {},
   "outputs": [],
   "source": [
    "pipe = Pipeline().setStages(stages)\n",
    "pipeModel = pipe.fit(df)\n",
    "pp_df = pipeModel.transform(df)"
   ]
  },
  {
   "cell_type": "markdown",
   "metadata": {},
   "source": [
    "#### Vérification des opération avec le schéma"
   ]
  },
  {
   "cell_type": "code",
   "execution_count": 25,
   "metadata": {
    "scrolled": true
   },
   "outputs": [
    {
     "name": "stdout",
     "output_type": "stream",
     "text": [
      "root\n",
      " |-- label: integer (nullable = true)\n",
      " |-- intFeature_1: integer (nullable = true)\n",
      " |-- intFeature_2: integer (nullable = true)\n",
      " |-- intFeature_3: integer (nullable = true)\n",
      " |-- intFeature_4: integer (nullable = true)\n",
      " |-- intFeature_5: integer (nullable = true)\n",
      " |-- intFeature_6: integer (nullable = true)\n",
      " |-- intFeature_7: integer (nullable = true)\n",
      " |-- intFeature_8: integer (nullable = true)\n",
      " |-- intFeature_9: integer (nullable = true)\n",
      " |-- intFeature_10: integer (nullable = true)\n",
      " |-- intFeature_11: integer (nullable = true)\n",
      " |-- intFeature_12: integer (nullable = true)\n",
      " |-- intFeature_13: integer (nullable = true)\n",
      " |-- catFeature_1: string (nullable = true)\n",
      " |-- catFeature_2: string (nullable = true)\n",
      " |-- catFeature_3: string (nullable = true)\n",
      " |-- catFeature_4: string (nullable = true)\n",
      " |-- catFeature_5: string (nullable = true)\n",
      " |-- catFeature_6: string (nullable = true)\n",
      " |-- catFeature_7: string (nullable = true)\n",
      " |-- catFeature_8: string (nullable = true)\n",
      " |-- catFeature_9: string (nullable = true)\n",
      " |-- catFeature_10: string (nullable = true)\n",
      " |-- catFeature_11: string (nullable = true)\n",
      " |-- catFeature_12: string (nullable = true)\n",
      " |-- catFeature_13: string (nullable = true)\n",
      " |-- catFeature_14: string (nullable = true)\n",
      " |-- catFeature_15: string (nullable = true)\n",
      " |-- catFeature_16: string (nullable = true)\n",
      " |-- catFeature_17: string (nullable = true)\n",
      " |-- catFeature_18: string (nullable = true)\n",
      " |-- catFeature_19: string (nullable = true)\n",
      " |-- catFeature_20: string (nullable = true)\n",
      " |-- catFeature_21: string (nullable = true)\n",
      " |-- catFeature_22: string (nullable = true)\n",
      " |-- catFeature_23: string (nullable = true)\n",
      " |-- catFeature_24: string (nullable = true)\n",
      " |-- catFeature_25: string (nullable = true)\n",
      " |-- catFeature_26: string (nullable = true)\n",
      " |-- catFeature_1_Idx: double (nullable = false)\n",
      " |-- oneHot_catFeature_1: vector (nullable = true)\n",
      " |-- catFeature_2_Idx: double (nullable = false)\n",
      " |-- oneHot_catFeature_2: vector (nullable = true)\n",
      " |-- catFeature_3_Idx: double (nullable = false)\n",
      " |-- oneHot_catFeature_3: vector (nullable = true)\n",
      " |-- catFeature_4_Idx: double (nullable = false)\n",
      " |-- oneHot_catFeature_4: vector (nullable = true)\n",
      " |-- catFeature_5_Idx: double (nullable = false)\n",
      " |-- oneHot_catFeature_5: vector (nullable = true)\n",
      " |-- catFeature_6_Idx: double (nullable = false)\n",
      " |-- oneHot_catFeature_6: vector (nullable = true)\n",
      " |-- catFeature_7_Idx: double (nullable = false)\n",
      " |-- oneHot_catFeature_7: vector (nullable = true)\n",
      " |-- catFeature_8_Idx: double (nullable = false)\n",
      " |-- oneHot_catFeature_8: vector (nullable = true)\n",
      " |-- catFeature_9_Idx: double (nullable = false)\n",
      " |-- oneHot_catFeature_9: vector (nullable = true)\n",
      " |-- catFeature_10_Idx: double (nullable = false)\n",
      " |-- oneHot_catFeature_10: vector (nullable = true)\n",
      " |-- catFeature_11_Idx: double (nullable = false)\n",
      " |-- oneHot_catFeature_11: vector (nullable = true)\n",
      " |-- catFeature_12_Idx: double (nullable = false)\n",
      " |-- oneHot_catFeature_12: vector (nullable = true)\n",
      " |-- catFeature_13_Idx: double (nullable = false)\n",
      " |-- oneHot_catFeature_13: vector (nullable = true)\n",
      " |-- catFeature_14_Idx: double (nullable = false)\n",
      " |-- oneHot_catFeature_14: vector (nullable = true)\n",
      " |-- catFeature_15_Idx: double (nullable = false)\n",
      " |-- oneHot_catFeature_15: vector (nullable = true)\n",
      " |-- catFeature_16_Idx: double (nullable = false)\n",
      " |-- oneHot_catFeature_16: vector (nullable = true)\n",
      " |-- catFeature_17_Idx: double (nullable = false)\n",
      " |-- oneHot_catFeature_17: vector (nullable = true)\n",
      " |-- catFeature_18_Idx: double (nullable = false)\n",
      " |-- oneHot_catFeature_18: vector (nullable = true)\n",
      " |-- catFeature_19_Idx: double (nullable = false)\n",
      " |-- oneHot_catFeature_19: vector (nullable = true)\n",
      " |-- catFeature_20_Idx: double (nullable = false)\n",
      " |-- oneHot_catFeature_20: vector (nullable = true)\n",
      " |-- catFeature_21_Idx: double (nullable = false)\n",
      " |-- oneHot_catFeature_21: vector (nullable = true)\n",
      " |-- catFeature_22_Idx: double (nullable = false)\n",
      " |-- oneHot_catFeature_22: vector (nullable = true)\n",
      " |-- catFeature_23_Idx: double (nullable = false)\n",
      " |-- oneHot_catFeature_23: vector (nullable = true)\n",
      " |-- catFeature_24_Idx: double (nullable = false)\n",
      " |-- oneHot_catFeature_24: vector (nullable = true)\n",
      " |-- catFeature_25_Idx: double (nullable = false)\n",
      " |-- oneHot_catFeature_25: vector (nullable = true)\n",
      " |-- catFeature_26_Idx: double (nullable = false)\n",
      " |-- oneHot_catFeature_26: vector (nullable = true)\n",
      " |-- features: vector (nullable = true)\n",
      "\n"
     ]
    }
   ],
   "source": [
    "pp_df.printSchema()"
   ]
  },
  {
   "cell_type": "code",
   "execution_count": 26,
   "metadata": {
    "scrolled": true
   },
   "outputs": [
    {
     "name": "stdout",
     "output_type": "stream",
     "text": [
      "root\n",
      " |-- label: integer (nullable = true)\n",
      " |-- features: vector (nullable = true)\n",
      "\n"
     ]
    }
   ],
   "source": [
    "select_cols = [\"label\"] + [\"features\"]\n",
    "pp_df = pp_df.select(select_cols)\n",
    "train, test = pp_df.randomSplit([0.7, 0.3])\n",
    "train.printSchema()"
   ]
  },
  {
   "cell_type": "code",
   "execution_count": 27,
   "metadata": {
    "scrolled": true
   },
   "outputs": [
    {
     "data": {
      "text/html": [
       "<div>\n",
       "<style scoped>\n",
       "    .dataframe tbody tr th:only-of-type {\n",
       "        vertical-align: middle;\n",
       "    }\n",
       "\n",
       "    .dataframe tbody tr th {\n",
       "        vertical-align: top;\n",
       "    }\n",
       "\n",
       "    .dataframe thead th {\n",
       "        text-align: right;\n",
       "    }\n",
       "</style>\n",
       "<table border=\"1\" class=\"dataframe\">\n",
       "  <thead>\n",
       "    <tr style=\"text-align: right;\">\n",
       "      <th></th>\n",
       "      <th>features</th>\n",
       "      <th>label</th>\n",
       "    </tr>\n",
       "  </thead>\n",
       "  <tbody>\n",
       "    <tr>\n",
       "      <th>0</th>\n",
       "      <td>(4.0, 4.0, 6.0, 8.0, 8.0, 9.0, 4.0, 7.0, 8.0, ...</td>\n",
       "      <td>0</td>\n",
       "    </tr>\n",
       "    <tr>\n",
       "      <th>1</th>\n",
       "      <td>(1.0, 119.0, 3.0, 11.0, 560.0, 23.0, 26.0, 24....</td>\n",
       "      <td>0</td>\n",
       "    </tr>\n",
       "    <tr>\n",
       "      <th>2</th>\n",
       "      <td>(1.0, 417.0, 17.0, 8.0, 764.0, 146.0, 24.0, 29...</td>\n",
       "      <td>0</td>\n",
       "    </tr>\n",
       "    <tr>\n",
       "      <th>3</th>\n",
       "      <td>(1.0, 1.0, 8.0, 6.0, 813.0, 17.0, 1.0, 10.0, 1...</td>\n",
       "      <td>0</td>\n",
       "    </tr>\n",
       "    <tr>\n",
       "      <th>4</th>\n",
       "      <td>(12.0, 4.0, 1.0, 1.0, 846.0, 1.0, 13.0, 23.0, ...</td>\n",
       "      <td>0</td>\n",
       "    </tr>\n",
       "  </tbody>\n",
       "</table>\n",
       "</div>"
      ],
      "text/plain": [
       "                                            features  label\n",
       "0  (4.0, 4.0, 6.0, 8.0, 8.0, 9.0, 4.0, 7.0, 8.0, ...      0\n",
       "1  (1.0, 119.0, 3.0, 11.0, 560.0, 23.0, 26.0, 24....      0\n",
       "2  (1.0, 417.0, 17.0, 8.0, 764.0, 146.0, 24.0, 29...      0\n",
       "3  (1.0, 1.0, 8.0, 6.0, 813.0, 17.0, 1.0, 10.0, 1...      0\n",
       "4  (12.0, 4.0, 1.0, 1.0, 846.0, 1.0, 13.0, 23.0, ...      0"
      ]
     },
     "execution_count": 27,
     "metadata": {},
     "output_type": "execute_result"
    }
   ],
   "source": [
    "pd.DataFrame(train.select(\"features\", \"label\").take(5), columns=[\"features\",\"label\"])"
   ]
  },
  {
   "cell_type": "markdown",
   "metadata": {},
   "source": [
    "## ML algorithmes"
   ]
  },
  {
   "cell_type": "markdown",
   "metadata": {},
   "source": [
    "### Fonctions utiles à l'évaluation des modèles"
   ]
  },
  {
   "cell_type": "code",
   "execution_count": 28,
   "metadata": {},
   "outputs": [],
   "source": [
    "## Log loss de sklearn pour évaluer les modèles\n",
    "from sklearn.metrics import log_loss\n",
    "\n",
    "def logloss(y_true, y_proba):\n",
    "    y_true = [y.__getitem__(\"label\") for y in y_true]\n",
    "    y_proba = [y.__getitem__(\"probability\") for y in y_proba]\n",
    "    y_proba = [[i for i in j] for j in y_proba]\n",
    "    return log_loss(y_true, y_proba)\n",
    "\n",
    "def logloss_pred(y_true, y_pred):\n",
    "    y_true = [y.__getitem__(\"label\") for y in y_true]\n",
    "    y_proba = [y.__getitem__(\"prediction\") for y in y_pred]\n",
    "    y_proba = [[0.0, 1.0] if j else [1.0, 0.0] for j in y_proba]\n",
    "    return log_loss(y_true, y_proba)\n",
    "\n",
    "def accuracy(y_true, y_pred):\n",
    "    y_true = [y.__getitem__(\"label\") for y in y_true]\n",
    "    y_pred = [y.__getitem__(\"prediction\") for y in y_pred]\n",
    "    egal = [y_true[i] == y_pred[i] for i in range(len(y_true))]\n",
    "    return sum(egal)/len(y_true)"
   ]
  },
  {
   "cell_type": "code",
   "execution_count": 29,
   "metadata": {},
   "outputs": [],
   "source": [
    "y_true = test.select(\"label\").collect()"
   ]
  },
  {
   "cell_type": "markdown",
   "metadata": {},
   "source": [
    "### Régression logistique"
   ]
  },
  {
   "cell_type": "code",
   "execution_count": 30,
   "metadata": {},
   "outputs": [],
   "source": [
    "from pyspark.ml.classification import LogisticRegression\n",
    "\n",
    "# Create initial LogisticRegression model\n",
    "lr = LogisticRegression(maxIter=5, threshold=0.3)\n",
    "\n",
    "# Train model with Training Data\n",
    "lrModel = lr.fit(train)"
   ]
  },
  {
   "cell_type": "markdown",
   "metadata": {},
   "source": [
    "#### Evaluation du modèle"
   ]
  },
  {
   "cell_type": "markdown",
   "metadata": {},
   "source": [
    "##### Sur le train"
   ]
  },
  {
   "cell_type": "code",
   "execution_count": 31,
   "metadata": {},
   "outputs": [
    {
     "data": {
      "image/png": "[encoded data removed]",
      "text/plain": [
       "<Figure size 432x288 with 1 Axes>"
      ]
     },
     "metadata": {
      "needs_background": "light"
     },
     "output_type": "display_data"
    },
    {
     "name": "stdout",
     "output_type": "stream",
     "text": [
      "Training set areaUnderROC: 0.927642156032551\n"
     ]
    }
   ],
   "source": [
    "trainingSummary = lrModel.summary\n",
    "roc = trainingSummary.roc.toPandas()\n",
    "plt.plot(roc['FPR'],roc['TPR'])\n",
    "plt.ylabel('False Positive Rate')\n",
    "plt.xlabel('True Positive Rate')\n",
    "plt.title('ROC Curve')\n",
    "plt.show()\n",
    "print('Training set areaUnderROC: ' + str(trainingSummary.areaUnderROC))"
   ]
  },
  {
   "cell_type": "markdown",
   "metadata": {},
   "source": [
    "##### Sur le test"
   ]
  },
  {
   "cell_type": "code",
   "execution_count": 32,
   "metadata": {},
   "outputs": [],
   "source": [
    "predictions = lrModel.transform(test)\n",
    "\n",
    "y_proba = predictions.select(\"probability\").collect()\n",
    "y_pred = predictions.select(\"prediction\").collect()"
   ]
  },
  {
   "cell_type": "code",
   "execution_count": 33,
   "metadata": {},
   "outputs": [
    {
     "name": "stdout",
     "output_type": "stream",
     "text": [
      "Aire sous la courbe ROC \n"
     ]
    },
    {
     "data": {
      "text/plain": [
       "0.7039124171645159"
      ]
     },
     "execution_count": 33,
     "metadata": {},
     "output_type": "execute_result"
    }
   ],
   "source": [
    "from pyspark.ml.evaluation import BinaryClassificationEvaluator\n",
    "\n",
    "# Evaluateur proposé par Spark pour la classification binaire\n",
    "evaluator = BinaryClassificationEvaluator(rawPredictionCol=\"rawPrediction\")\n",
    "print(\"Aire sous la courbe ROC \")\n",
    "evaluator.evaluate(predictions)"
   ]
  },
  {
   "cell_type": "code",
   "execution_count": 39,
   "metadata": {},
   "outputs": [
    {
     "name": "stdout",
     "output_type": "stream",
     "text": [
      "Log loss = 0.582487,\n",
      "Log loss divisée par le nombre d'exemples = 0.000016,\n",
      "Accuracy = 67.906623%\n"
     ]
    }
   ],
   "source": [
    "ll = logloss(y_true, y_proba)\n",
    "acc = accuracy(y_true, y_pred)\n",
    "print(\"Log loss = {:2f},\\nLog loss divisée par le nombre d'exemples = {:2f},\\nAccuracy = {:2%}\"\n",
    "      .format(ll, ll / len(y_true), acc))"
   ]
  },
  {
   "cell_type": "markdown",
   "metadata": {},
   "source": [
    "##### Comparaison avec prédire que des 0 (classe majoritaire)"
   ]
  },
  {
   "cell_type": "code",
   "execution_count": 35,
   "metadata": {},
   "outputs": [
    {
     "name": "stdout",
     "output_type": "stream",
     "text": [
      "root\n",
      " |-- label: integer (nullable = true)\n",
      " |-- features: vector (nullable = true)\n",
      " |-- rawPrediction: vector (nullable = true)\n",
      " |-- probability: vector (nullable = true)\n",
      " |-- prediction: double (nullable = false)\n",
      "\n"
     ]
    }
   ],
   "source": [
    "# If we predict all 0\n",
    "from pyspark.sql.functions import lit\n",
    "predictions0 = predictions.withColumn(\"prediction\", lit(0.0))\n",
    "predictions0.printSchema()"
   ]
  },
  {
   "cell_type": "code",
   "execution_count": 36,
   "metadata": {},
   "outputs": [],
   "source": [
    "pred_0 = predictions.select(\"prediction\").collect()"
   ]
  },
  {
   "cell_type": "code",
   "execution_count": 40,
   "metadata": {},
   "outputs": [
    {
     "name": "stdout",
     "output_type": "stream",
     "text": [
      "Log loss = 11.084660,\n",
      "Log loss divisée par le nombre d'exemples = 0.000312,\n",
      "Accuracy = 67.906623%\n"
     ]
    }
   ],
   "source": [
    "ll = logloss_pred(y_true, pred_0)\n",
    "acc = accuracy(y_true, pred_0)\n",
    "print(\"Log loss = {:2f},\\nLog loss divisée par le nombre d'exemples = {:2f},\\nAccuracy = {:2%}\"\n",
    "      .format(ll, ll / len(y_true), acc))"
   ]
  },
  {
   "cell_type": "markdown",
   "metadata": {},
   "source": [
    "Bien que les valeurs d'accuracy soient similaires, la log loss est bien plus faible pour les prédictions du modèles.\n",
    "\n",
    "On voit donc, que même s'il finit par prédire la même chose, ses prédictions sont dans l'ensemble bien plus proches des bonnes prédictions."
   ]
  },
  {
   "cell_type": "markdown",
   "metadata": {},
   "source": [
    "### SVM"
   ]
  },
  {
   "cell_type": "code",
   "execution_count": 41,
   "metadata": {},
   "outputs": [],
   "source": [
    "from pyspark.ml.classification import LinearSVC\n",
    "\n",
    "svc = LinearSVC(maxIter=10, regParam=0.1)\n",
    "\n",
    "svcModel = svc.fit(train)"
   ]
  },
  {
   "cell_type": "code",
   "execution_count": 42,
   "metadata": {},
   "outputs": [],
   "source": [
    "predictions = svcModel.transform(test)\n",
    "\n",
    "y_pred = predictions.select(\"prediction\").collect()"
   ]
  },
  {
   "cell_type": "code",
   "execution_count": 43,
   "metadata": {},
   "outputs": [
    {
     "data": {
      "text/plain": [
       "0.6618905750716337"
      ]
     },
     "execution_count": 43,
     "metadata": {},
     "output_type": "execute_result"
    }
   ],
   "source": [
    "evaluator.evaluate(predictions)"
   ]
  },
  {
   "cell_type": "code",
   "execution_count": 44,
   "metadata": {
    "scrolled": true
   },
   "outputs": [
    {
     "name": "stdout",
     "output_type": "stream",
     "text": [
      "Log loss = 9.731781,\n",
      "Log loss divisée par le nombre d'exemples = 0.000274,\n",
      "Accuracy = 71.823609%\n"
     ]
    }
   ],
   "source": [
    "ll = logloss_pred(y_true, y_pred)\n",
    "acc = accuracy(y_true, y_pred)\n",
    "print(\"Log loss = {:2f},\\nLog loss divisée par le nombre d'exemples = {:2f},\\nAccuracy = {:2%}\"\n",
    "      .format(ll, ll / len(y_true), acc))"
   ]
  },
  {
   "cell_type": "markdown",
   "metadata": {},
   "source": [
    "L'accuracy est un peu meilleure que pour la régression logistique, mais la loss est bien pire, étant donné que le SVM ne donne pas de probabilités."
   ]
  }
 ],
 "metadata": {
  "kernelspec": {
   "display_name": "Python 3",
   "language": "python",
   "name": "python3"
  },
  "language_info": {
   "codemirror_mode": {
    "name": "ipython",
    "version": 3
   },
   "file_extension": ".py",
   "mimetype": "text/x-python",
   "name": "python",
   "nbconvert_exporter": "python",
   "pygments_lexer": "ipython3",
   "version": "3.6.7"
  }
 },
 "nbformat": 4,
 "nbformat_minor": 2
}
